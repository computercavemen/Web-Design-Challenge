{
 "cells": [
  {
   "cell_type": "code",
   "execution_count": 1,
   "id": "fff52538",
   "metadata": {},
   "outputs": [],
   "source": [
    "import pandas as pd"
   ]
  },
  {
   "cell_type": "code",
   "execution_count": 2,
   "id": "6c19081b",
   "metadata": {},
   "outputs": [],
   "source": [
    "# Create a reference the CSV file desired\n",
    "csv_path = \"Resources/cities.csv\""
   ]
  },
  {
   "cell_type": "code",
   "execution_count": 5,
   "id": "002350a7",
   "metadata": {},
   "outputs": [],
   "source": [
    "# to read csv file named \"samplee\"\n",
    "a = pd.read_csv(csv_path)"
   ]
  },
  {
   "cell_type": "code",
   "execution_count": 6,
   "id": "9c5af1e0",
   "metadata": {},
   "outputs": [],
   "source": [
    "cities_df = pd.DataFrame(a)"
   ]
  },
  {
   "cell_type": "code",
   "execution_count": 7,
   "id": "2f63e8b2",
   "metadata": {},
   "outputs": [],
   "source": [
    "cities_df = cities_df.set_index(\"City_ID\")"
   ]
  },
  {
   "cell_type": "code",
   "execution_count": 8,
   "id": "aa0f4ca4",
   "metadata": {},
   "outputs": [],
   "source": [
    "# to save as html file\n",
    "# named as \"Table\"\n",
    "cities_df.to_html(\"Table.html\")"
   ]
  },
  {
   "cell_type": "code",
   "execution_count": null,
   "id": "9636e908",
   "metadata": {},
   "outputs": [],
   "source": []
  }
 ],
 "metadata": {
  "kernelspec": {
   "display_name": "Python 3",
   "language": "python",
   "name": "python3"
  },
  "language_info": {
   "codemirror_mode": {
    "name": "ipython",
    "version": 3
   },
   "file_extension": ".py",
   "mimetype": "text/x-python",
   "name": "python",
   "nbconvert_exporter": "python",
   "pygments_lexer": "ipython3",
   "version": "3.8.8"
  }
 },
 "nbformat": 4,
 "nbformat_minor": 5
}
